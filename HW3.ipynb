{
 "cells": [
  {
   "cell_type": "markdown",
   "metadata": {},
   "source": [
    "## Statistics and Data Analysis, Homework 3\n",
    "# Differential Gene Expression in Acute Myocardial Infraction\n",
    "Gabriel Mazor, Yam Libman\n",
    "\n",
    "## The Data Set\n",
    "1. Dataset record in NCBI:\n",
    "   https://www.ncbi.nlm.nih.gov/geo/query/acc.cgi?acc=GSE66360\n",
    "2. Published Paper: Muse et al, Sci Rep 2017\n",
    "   https://www.nature.com/articles/s41598-017-12166-0 "
   ]
  },
  {
   "cell_type": "code",
   "execution_count": 1,
   "metadata": {},
   "outputs": [],
   "source": [
    "import pandas as pd\n",
    "import numpy as np\n",
    "import matplotlib.pyplot as plt"
   ]
  }
 ],
 "metadata": {
  "kernelspec": {
   "display_name": "base",
   "language": "python",
   "name": "python3"
  },
  "language_info": {
   "codemirror_mode": {
    "name": "ipython",
    "version": 3
   },
   "file_extension": ".py",
   "mimetype": "text/x-python",
   "name": "python",
   "nbconvert_exporter": "python",
   "pygments_lexer": "ipython3",
   "version": "3.9.7"
  }
 },
 "nbformat": 4,
 "nbformat_minor": 2
}
